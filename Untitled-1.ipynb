{
 "cells": [
  {
   "cell_type": "markdown",
   "metadata": {},
   "source": [
    "## Finite Element Analysis of 3D Elastic Solids\n",
    "\n",
    "Fixed Grid (FG) methodology was first introduced by Garc´ıa and Steven as an engine for\n",
    "numerical estimation of two-dimensional elasticity problems. The advantages of using FG are simplicity and\n",
    "speed at a permissible level of accuracy. Two dimensional FG has been proved effective in approximating\n",
    "the strain and stress field with low requirements of time and computational resources. Moreover, FG has\n",
    "been used as the analytical kernel for different structural optimisation methods as Evolutionary Structural\n",
    "Optimisation, Genetic Algorithms (GA), and Evolutionary Strategies."
   ]
  },
  {
   "cell_type": "markdown",
   "metadata": {},
   "source": [
    "We can solve this problem in terms of a minimum of potential energy.\n",
    "\n",
    "$$\\Pi (u, v, w) = U - W;$$\n",
    "\n",
    "$U$ is the strain energy:\n",
    "\n",
    "$$U = \\frac{1}{2} \\iiint_V \\epsilon \\sigma^t \\,dV;$$\n",
    "\n",
    "$\\epsilon$ is a strain tensor:\n",
    "\n",
    "$$\\epsilon = (\\epsilon_x, \\epsilon_y, \\epsilon_z, \\gamma_{xy}, \\gamma_{yz}, \\gamma_{zx})^T$$\n",
    "\n",
    "$\\sigma$ is stress tensor:\n",
    "\n",
    "$$\\sigma = (\\sigma_x, \\sigma_y, \\sigma_z, \\tau_{xy}, \\tau_{yz}, \\tau_{zx})^T$$\n",
    "\n",
    "The components of the vectors $\\sigma$ and $\\epsilon$ make up the so-called stress vector S (3x3 matrix):\n",
    "\n",
    "$$ S = \\left(\\begin{matrix}\\sigma_x & \\tau_{xy} & \\tau_{xz}\\\\ \\tau_{yx} & \\sigma_y & \\tau_{yz} \\\\ \\tau_{zx} & \\tau_{zy} & \\sigma_z \\end{matrix}\\right) $$\n",
    "\n",
    "The work done term $W$ incorporates work done by all applied forces, including body forces, distributed surface forces, and concentrated forces. \n",
    "\n",
    "$$W = W_b + W_q + W_f$$\n",
    "\n",
    "$$W_b =\\iiint_V (b_x u + b_y v + b_z w) \\,dV$$\n",
    "\n",
    "$$W_q =\\iint_S (q_x u + q_y v + q_z w) \\,dS$$\n",
    "\n",
    "$$W_f = \\sum_i (F_{xi} u_i + F_{yi} v_i + F_{zi} w_i)$$\n",
    "\n",
    "Each finite element nood has three degree of freedom:\n",
    "\n",
    "$$u(x, y, z) = \\left(\\begin{matrix} u \\\\ v \\\\ w \\end{matrix}\\right) = \\left(\\begin{matrix} \n",
    "N_1 & 0 & 0 & N_2 & 1 & \\ldots \\\\ \n",
    "0 & N_1 & 0 & 0 &N_2 & \\ldots \\\\ \n",
    "0 & 0 & N_1 & 0 & 0 &\\ldots \\end{matrix}\\right) \\left(\\begin{matrix} u_1 \\\\ v_1 \\\\ w_1 \\\\ u_2 \\\\ \\vdots \\end{matrix}\\right) = N^Td$$\n",
    "\n",
    "where $d$ is displacements.\n",
    "\n",
    "Element strain vector can be computed by appropriate differentiation as follows:\n",
    "\n",
    "$$ \\epsilon = B^Td $$\n"
   ]
  },
  {
   "cell_type": "markdown",
   "metadata": {},
   "source": []
  },
  {
   "cell_type": "markdown",
   "metadata": {},
   "source": [
    "Optimisation is the process od minimizing (or maximising) some function. \n"
   ]
  },
  {
   "cell_type": "code",
   "execution_count": null,
   "metadata": {},
   "outputs": [],
   "source": []
  },
  {
   "cell_type": "markdown",
   "metadata": {},
   "source": []
  }
 ],
 "metadata": {
  "language_info": {
   "name": "python"
  }
 },
 "nbformat": 4,
 "nbformat_minor": 2
}
