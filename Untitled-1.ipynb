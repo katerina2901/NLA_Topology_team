{
 "cells": [
  {
   "cell_type": "markdown",
   "metadata": {},
   "source": [
    "## Finite Element Analysis of 3D Elastic Solids\n",
    "\n",
    "Fixed Grid (FG) methodology was first introduced by Garc´ıa and Steven as an engine for\n",
    "numerical estimation of two-dimensional elasticity problems. The advantages of using FG are simplicity and\n",
    "speed at a permissible level of accuracy. Two dimensional FG has been proved effective in approximating\n",
    "the strain and stress field with low requirements of time and computational resources. Moreover, FG has\n",
    "been used as the analytical kernel for different structural optimisation methods as Evolutionary Structural\n",
    "Optimisation, Genetic Algorithms (GA), and Evolutionary Strategies."
   ]
  },
  {
   "cell_type": "markdown",
   "metadata": {},
   "source": [
    "We can solve this problem in terms of a minimum of potential energy.\n",
    "\n",
    "$$\\Pi (u, v, w) = U - W;$$\n",
    "\n",
    "$U$ is the strain energy:\n",
    "\n",
    "$$U = \\frac{1}{2} \\iiint_V \\epsilon \\sigma^t \\,dV;$$\n",
    "\n",
    "$\\epsilon$ is a strain tensor:\n",
    "\n",
    "$$\\epsilon = (\\epsilon_x, \\epsilon_y, \\epsilon_z, \\gamma_{xy}, \\gamma_{yz}, \\gamma_{zx})^T$$\n",
    "\n",
    "$\\sigma$ is stress tensor:\n",
    "\n",
    "$$\\sigma = (\\sigma_x, \\sigma_y, \\sigma_z, \\tau_{xy}, \\tau_{yz}, \\tau_{zx})^T$$\n",
    "\n",
    "The components of the vectors $\\sigma$ and $\\epsilon$ make up the so-called stress vector S (3x3 matrix):\n",
    "\n",
    "$$ S = \\left(\\begin{matrix}\\sigma_x & \\tau_{xy} & \\tau_{xz}\\\\ \\tau_{yx} & \\sigma_y & \\tau_{yz} \\\\ \\tau_{zx} & \\tau_{zy} & \\sigma_z \\end{matrix}\\right) $$\n",
    "\n",
    "The work done term $W$ incorporates work done by all applied forces, including body forces, distributed surface forces, and concentrated forces. \n",
    "\n",
    "$$W = W_b + W_q + W_f$$\n",
    "\n",
    "$$W_b =\\iiint_V (b_x u + b_y v + b_z w) \\,dV$$\n",
    "\n",
    "$$W_q =\\iint_S (q_x u + q_y v + q_z w) \\,dS$$\n",
    "\n",
    "$$W_f = \\sum_i (F_{xi} u_i + F_{yi} v_i + F_{zi} w_i)$$\n",
    "\n",
    "Each finite element nood has three degree of freedom:\n",
    "\n",
    "$$u(x, y, z) = \\left(\\begin{matrix} u \\\\ v \\\\ w \\end{matrix}\\right) = \\left(\\begin{matrix} \n",
    "N_1 & 0 & 0 & N_2 & 1 & \\ldots \\\\ \n",
    "0 & N_1 & 0 & 0 &N_2 & \\ldots \\\\ \n",
    "0 & 0 & N_1 & 0 & 0 &\\ldots \\end{matrix}\\right) \\left(\\begin{matrix} u_1 \\\\ v_1 \\\\ w_1 \\\\ u_2 \\\\ \\vdots \\end{matrix}\\right) = N^Td$$\n",
    "\n",
    "where $d$ is displacements.\n",
    "\n",
    "Element strain vector can be computed by appropriate differentiation as follows:\n",
    "\n",
    "$$ \\epsilon = B^Td $$\n"
   ]
  },
  {
   "cell_type": "markdown",
   "metadata": {},
   "source": [
    "Optimisation is the process od minimizing (or maximising) some function. We have a function that has to be minimised with respect to some variable(s), subject to certain limitations. The function that we want to minimise is called the objective function and the limitations are called constraints. A general nonlinear constrained optimisation problem can be written as: $$min_{x}f(x), x = [x_{1}, x_{2}, ..., x_{n}]^{T}\\in \\R^{n},$$ $$subject  to g_{j}(x) \\le 0, j = 1,2, ..., m,$$ $$h_{k}(x) = 0, k= 1,2, ..., m,$$ $$x_{i_{lower}} \\le x_{i} \\le x_{i_{upper}}, i = 1,2,...,n,$$ where $f(x)$, $g_{i}(x)$ and $h_{k}(x)$ are scalar functions of the real column vector $x$, the design variables. Each $g_{i}(x)$ represents an inequality constraint and are referred to as the side constraint equations [Vanderplaats, 2001]. It is usually convenient to treat the latter separetely since they define the region of search for the optimum namely between the lower bound $x_{i_{lower}}$ and the upper bound $x_{i_{upper}}.$\n",
    "\n",
    "\n",
    "There are three popular and frequently used problems of topology optimization: minimum complience, heat conduction and mechanism synthesis [Bruns T. E. A reevaluation of the SIMP method with filtering and an alternative formulation for solid–void topology optimization //Structural and Multidisciplinary Optimization. – 2005. – Т. 30. – С. 428-436]. \n",
    "\n",
    "The real minimum compliance problem is a distributed, descrete valued design problem, which consists of calculating the complience (the inverse of stiffness) for each possible permutation of the design domain. Thus, if we discretise a 2D domain into X-by-Y mesh of finite elements, and knowing that each element has two possible values (0 and 1), we have $2^{X\\times Y}$ possible permutations of the domain. This is extremely expensive to compute: for a small 4-by-4 domain, we have to calculate $2^{4\\times 4} = 65536$ possible material designs and evaluate each one in order to find the design's compliance, with each requiring a finite element analysis (FEA). The problem is further compounded in that each FEA becomes computationally more expensive as the domain discretation is increased. \n",
    "\n",
    "The above mentioned problem can be solved using, for example, the SIMP method [Sigmund 2001]. Basically, the approach is to replace the discrete variables with continuous variables and then to introduce some form of penalty that will drive the solution to discrete solid-void-values. The element stiffness matrix is then modified so that it becimes a function of the continuous variables, where the latter are now the design variables. The continuous design variables could be interpreted as the density of the material. \n",
    "\n",
    "Then let's rewrite the general form of a mathematical optimisation problem as a minimum compiance topology optimisation problem. The SIMP problem for minimum complience is $$min_{x}f(x) = q^{T}r = \\Sigma_{i=1}^n (x_{i})^{p}q_{i}^{T}K_{i}q_{i},$$ $$subject to g_{j}(x) \\le 0, j = 1,2,...,m,$$ $$Kq = r,$$ $$0 \\le x_{i{lower}} \\le x_{i_{upper}} \\le 1, i = 1,2,...,n.$$ The objective function $f(x)$ represents complience or strain energy, $x_{i}$ represents the design variable, that is a finite element. Thus, $(x_{i})^{p}$ represents the penalised design variable (or density) and $p$ is the SIMP penalty parameter. Using of a lower bound $x_{i_{lower}}$ on the density is due to prevent any possible singularity of the equilibrium problem. The $q$ represents the finite element global displacement vector, $q_{i}$ represents the elemental displacement vector, $r$ is the global load vector, $K_{i}$ is the element stiffness matrix and $K$ is the global assembled finite element stiffness matrix. The $m$ linear constraints are represented by $g_{j}(x)$ and the last equation represents the side constraints on $x_{i}$. S"
   ]
  },
  {
   "cell_type": "markdown",
   "metadata": {},
   "source": []
  }
 ],
 "metadata": {
  "language_info": {
   "name": "python"
  }
 },
 "nbformat": 4,
 "nbformat_minor": 2
}
