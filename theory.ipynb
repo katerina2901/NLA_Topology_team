{
 "cells": [
  {
   "cell_type": "markdown",
   "metadata": {},
   "source": [
    "## Optimisation\n",
    "\n",
    "Optimisation is the process od minimizing (or maximising) some function. We have a function that has to be minimised with respect to some variable(s), subject to (in the quations will be defined as s.t.)certain limitations. The function that we want to minimise is called the objective function and the limitations are called constraints. A general nonlinear constrained optimisation problem can be written as: $$min_{x}f(x), x = [x_{1}, x_{2}, ..., x_{n}]^{T}\\in \\R^{n},$$ $$s.t.\\hspace{2 mm} g_{j}(x) \\le 0, j = 1,2, ..., m,$$ $$h_{k}(x) = 0, k= 1,2, ..., m,$$ $$x_{i_{lower}} \\le x_{i} \\le x_{i_{upper}}, i = 1,2,...,n,$$ where $f(x)$, $g_{i}(x)$ and $h_{k}(x)$ are scalar functions of the real column vector $x$, the design variables. Each $g_{i}(x)$ represents an inequality constraint and are referred to as the side constraint equations [Vanderplaats, 2001]. It is usually convenient to treat the latter separetely since they define the region of search for the optimum namely between the lower bound $x_{i_{lower}}$ and the upper bound $x_{i_{upper}}.$\n",
    "\n",
    "There are three popular and frequently used problems of topology optimization: minimum complience, heat conduction and mechanism synthesis [Bruns T. E. A reevaluation of the SIMP method with filtering and an alternative formulation for solid–void topology optimization //Structural and Multidisciplinary Optimization. – 2005. – Т. 30. – С. 428-436]. \n",
    "\n",
    "## Minimum complience: problem statement \n",
    "\n",
    "The real minimum compliance problem is a distributed, descrete valued design problem, which consists of calculating the complience (the inverse of stiffness) for each possible permutation of the design domain. Thus, if we discretise a 2D domain into X-by-Y mesh of finite elements, and knowing that each element has two possible values (0 and 1), we have $2^{X\\times Y}$ possible permutations of the domain. This is extremely expensive to compute: for a small 4-by-4 domain, we have to calculate $2^{4\\times 4} = 65536$ possible material designs and evaluate each one in order to find the design's compliance, with each requiring a finite element analysis (FEA). The problem is further compounded in that each FEA becomes computationally more expensive as the domain discretation is increased. \n",
    "\n",
    "The above mentioned problem can be solved using, for example, the SIMP method [Sigmund 2001]. Basically, the approach is to replace the discrete variables with continuous variables and then to introduce some form of penalty that will drive the solution to discrete solid-void-values. The element stiffness matrix is then modified so that it becimes a function of the continuous variables, where the latter are now the design variables. The continuous design variables could be interpreted as the density of the material. \n",
    "\n",
    "Then let's rewrite the general form of a mathematical optimisation problem as a minimum compiance topology optimisation problem. The SIMP problem for minimum complience is $$min_{x}f(x) = q^{T}r = \\Sigma_{i=1}^n (x_{i})^{p}q_{i}^{T}K_{i}q_{i},$$ $$s.t.\\hspace{2 mm} g_{j}(x) \\le 0, j = 1,2,...,m,$$ $$Kq = r,$$ $$0 \\le x_{i{lower}} \\le x_{i_{upper}} \\le 1, i = 1,2,...,n.$$ The objective function $f(x)$ represents complience or strain energy, $x_{i}$ represents the design variable, that is a finite element. Thus, $(x_{i})^{p}$ represents the penalised design variable (or density) and $p$ is the SIMP penalty parameter. Using of a lower bound $x_{i_{lower}}$ on the density is due to prevent any possible singularity of the equilibrium problem. The $q$ represents the finite element global displacement vector, $q_{i}$ represents the elemental displacement vector, $r$ is the global load vector, $K_{i}$ is the element stiffness matrix and $K$ is the global assembled finite element stiffness matrix. The $m$ linear constraints are represented by $g_{j}(x)$ and the last equation represents the side constraints on $x_{i}$. Subscript $i$ indicates elemental quantities and operators, $q_{i}$ refers to the displacement contribution of element $i$. \n",
    "\n",
    "Further we consider only $n$ equally sized finite elements in the finite element mesh, with the corresponding vector of design variables $x = [x_{1}, x_{2}, ... , x_{n}]^{T}$. It is assumed that the load vector, $r$, is independent of the design variables $x$, that is $r\\neq f(x)$. \n",
    "\n",
    "Then to obtain standart minimum complience problem with single constraint, we set $m=1$ and formulate the constraint: $$g(x) = \\frac{v(x)}{v_{0}} - v_{lim} = \\frac{1}{v_{0}}\\Sigma_{i=1}^{n} v_{i}x_{i} - v_{lim} \\le 0,$$ where $v(x) = v$ represents the final $area\\times 1$ in the 2D domain occupying the design domain, $v_{0}$ is the total area of the design domain, $v_{lim}$ is the prescribed limit on the final area fraction, and $v_{i} is the area that each element takes$. When the finite elements are all equally sized, $v_{i}$ is the same for each element and can therefore be moved in front of summation symbol and be replaced by $v_{e}$. $K_{i}$ is also the same for each element, and is replaced by $K_{e}$. Finally, we can write the above problem as: $$min_{x}f(x) = \\Sigma_{i=1}^{n} (x_{i})^{p}q_{i}^{T}K_{e}q_{i},$$ $$s.t.\\hspace{2 mm} g(x) = \\frac{v_{e}}{v_{0}}\\Sigma_{i=1}^{n} x_{i} - v_{lim} \\le 0,$$ $$Kq = r,$$ $$0 \\le x_{i_{lower}} \\le x_{i} \\le 1, i = 1,2,...,n.$$\n",
    "\n",
    "## Heat conduction: problem statement \n",
    "\n",
    "In thermodynamics, heat is defined as energy transfer due to temperature gradients. There are two modes of heat transfer in thermodynamics, namely conduction and radiation. For a material that can be modelled as isotropic (steel, as an example) then conductivity is the same in all directions. \n",
    "\n",
    "The finite element formulation for heat transfer gives the following equation for steady-state conditions: $$Kq = r,$$ where the $q$ now represents the finite element global nodal temperature vector, $r$ is the global thermal load vector, $K_{e}$ is the element conductivity matrix and $K$ represents the global assembled finite element conductivity matrix. Based on the paper [Bendsøe M. P. et al. Topology design of truss structures //Topology Optimization: Theory, Methods, and Applications. – 2004. – С. 221-259] it is possible to formulate the optimisation problem as: $$min_{x}f(x) = \\Sigma_{i=1}^{n} {x_{i_{lower}}+(1-x_{i_{lower}})(x_{i})^{p}}q_{i}^{T}K_{e}q_{i},$$ $$s.t.\\hspace{2 mm} g(x) = \\frac{v_{e}}{v_{0}}\\Sigma_{i=1}^{n} x_{i} - v_{lim} \\le 0,$$ $$Kq = r,$$ $$0 \\le x_{i_{lower}} \\le x_{i} \\le 1, i = 1,2,...,n.$$\n",
    "\n",
    "## Compliant mechanism synthesis: problem statement\n",
    "\n",
    "A mechanism is a device used to transfer motion and/or force. Traditional mechanisms consist of parts connected to each other by means of hinges. A complient mechanism, unlike traditional, derives some of its mobility from the displacement of flexible parts, tha is certain joints deform in order to give mobility to parts. Large displacements may cause mechanical locking of some parts, thus, we need to perform non-linear analysis to obtain usefil results for large displacement mechanisms. \n",
    "\n",
    "However, as a first attempt design, linear models can certainly be used to approximate the behaviour of non-linear (realistic) mechanisms. The linear compliant mechanism design problem may typically be expressed as: $$max_xf(x) = l^{T}q,$$ $$s.t.\\hspace{2 mm} g(x) = \\frac{v_{e}}{v_{0}}\\Sigma_{i=1}^{n} x_{i} - v_{lim} \\le 0,$$ $$Kq=r,$$ $$0 \\le x_{i_{lower}} \\le x_{i} \\le 1, i = 1,2,...,n,$$ where $l$ is a d-vector and d is the total number of degrees of freedom present in the structure (with $n \\le d$). The components $l_{i} = 0$ for any $i$, except for to-be-specified characteristic displacements, for which $l_{i} = 1$. The design variables $x_{i}$ may be obtained using the dummy-load [Bendsøe M. P. et al. Topology design of truss structures //Topology Optimization: Theory, Methods, and Applications. – 2004. – С. 221-259].\n",
    "\n",
    "## Finite elements with penalised equilibrium\n",
    "\n",
    "Assumed stress hybrid elements are renowned for their accurate stress solution, due to the fact that the stress and displacement trial functions are selected independently. For a 2D 4-node quadrilateral (Q4) membrane element, the displacements $u$ are typically interpolated as $$u=Nq,$$ with $N$ the bi-linear Lagrangian interpolation functions, and $q$ is the unknown elemental nodal displacements. The stress $\\sigma$ is interpolated as $$\\sigma = TP\\beta,$$ where $P$ is the stress interpolation matrix, $T$ is an optional transformation or constraint matrix, and $\\beta$ is the unknown elemental stress psrsmeters. Selecting $T$ and $P$ is not straight forward - there are no unique optimal formulations. Typically, 5 $\\beta$ parameters are used with : $$P = \\begin{pmatrix} 1 & 0 & 0 & ƞ & 0 \\\\ 0 & 1 & 0 & 0 & ξ \\\\ 0 & 0 & 1 & 0 & 0\\end{pmatrix},$$ where ξ and ƞ are the natural coordinates. \n",
    "\n",
    "Accurate  stress solutions in the sense of the energy norm do not necessarily imply pointwise accurate stress predictions within elements [Wu and Cheung, 1995]. Most hybrid elements only yield accurate stress predictions at the element centrid, while stress predictions at element edges and in particular element nodes, can be highly inaccurate. To improve the accuracy of point wise predictions in hybrid elements, a number of formulations have been proposed. This includes pre- and post-treatment proposed by authors of the paper [[Wu and Cheung, 1995]], with post-treatment simpler and superior. Post-treatment via penalised equilibrium is outlined as follows:\n",
    "\n",
    "While distributed body forces may induce important loads on a structure, they can usually be ignored on the element level in stress calculations. Thus, element equilibrium could be written as: $$\\partial\\sigma = D^{T}\\sigma = 0 in    \\Omega,$$ where $D$ is the 2D differential operator and $\\Sigma$ is the element domain. Enforcement of the equation above in the cariational formulation yields a functional: $$Π^{*}(u,\\sigma) = Π(u,\\sigma) - \\alpha\\int (\\partial\\sigma)^{T}(\\partial\\sigma)\\,d\\Omega,$$ where $\\alpha >> 0$, $Π(u,\\sigma)$ represents the potential of the Hellinger-Reissner principle. Using matrix notation, and for the sake of convergence setting $\\alpha \\leftarrow \\alpha/2E$, the potential of the assumed stress elements becomes: $$Π^{*}(u,\\sigma) = \\beta^{T}Gq - \\frac{1}{2}\\beta^{T}(H+\\frac{\\alpha}{E}H_{p})\\beta- q^{T}r$$ with $$G = \\int_{\\Omega} P^{T}B\\, d\\Omega,$$ $$H = \\int_{\\Omega}P^{T}C^{-1}P\\,d\\Omega,$$ $$r = \\int_{\\Omega}N^{T}f\\,d\\Omega,$$ and $$H_{p} = \\int_{\\Omega}(\\partial P)^{T}(\\partial P)\\,d\\Omega,$$ where $P$ is now understood to represent the matrix product $TP$. From the stationary condition, the elemental stress parameters may be recovered as: $$\\beta = (H+\\frac{\\alpha}{E}H_{p})^{-1}Gq,$$ while the force-displacement relationship is obtained as: $$G^{T}(H+\\frac{\\alpha}{E}H_{p})^{-1}Gq = r,$$ or $$Kq = r.$$\n",
    "\n",
    "For elements of regular geometry, penalised equilibrium has no detrimental influence. However, for elements of irregular geometry, the stiffness associated with the higher order deformation modes completely vanishes as $\\alpha \\rightarrow ∞$. \n",
    "\n",
    "Let's now consider displacement based element. Even though the enforcement of $\\partial \\sigma = 0$ in $Omega$ seems difficult for the Q4 element, it may be attempted to soften the higher order deformation modes by means of introducing elemental parameters, expressed in terms of the element equilibrium equations. \n",
    "\n",
    "The straining or deformation modes of square Q4 element are shown in Figure 1. The higher order modes are to be blamed for the poor perfomance of this element in bending. For the element, the stresses are obtained from: $$\\sigma = Cε = CBq$$ Hence $$\\partial \\sigma = \\partial (CBq) = \\overline{B}q$$ The potential energy is constructed then as follow: $$\\Pi^{*}(u) = \\frac{1}{2}q^{T}\\int_{\\Omega}B^{T}CB\\,d\\Omega q - \\alpha q^{T}\\int_{\\Omega}\\overline{B}^{T}\\overline{B}\\,d\\Omega q - q^{T}r.$$ The force-displacement relationship for new Q4(\\alpha^{*}) element, that is $Q4\\alpha 5 \\beta$, is then obtained as: $$(K-\\alpha E\\overline{K})q = r,$$ where $\\alpha \\leftarrow \\alpha E/2.$ In compare with the normal force-displacement relationship for the Q4 element, $Kq=r$, the difference is the introduction of $\\alpha E \\overline{K},$ which is introduced in order to soften higher order modes of the Q4 element. \n",
    "\n"
   ]
  },
  {
   "cell_type": "markdown",
   "metadata": {},
   "source": [
    "## Topology optimisation\n",
    "\n"
   ]
  }
 ],
 "metadata": {
  "language_info": {
   "name": "python"
  }
 },
 "nbformat": 4,
 "nbformat_minor": 2
}
