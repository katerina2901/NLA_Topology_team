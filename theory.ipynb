{
 "cells": [
  {
   "cell_type": "markdown",
   "metadata": {},
   "source": [
    "## Optimization\n",
    "\n",
    "Optimization is the process od minimizing (or maximising) some function. We have a function that has to be minimised with respect to some variable(s), subject to (in the quations will be defined as s.t.)certain limitations. The function that we want to minimise is called the objective function and the limitations are called constraints. A general nonlinear constrained optimization problem can be written as: $$min_{x}f(x), x = [x_{1}, x_{2}, ..., x_{n}]^{T}\\in \\R^{n},$$ $$s.t.\\hspace{2 mm} g_{j}(x) \\le 0, j = 1,2, ..., m,$$ $$h_{k}(x) = 0, k= 1,2, ..., m,$$ $$x_{i_{lower}} \\le x_{i} \\le x_{i_{upper}}, i = 1,2,...,n,$$ where $f(x)$, $g_{i}(x)$ and $h_{k}(x)$ are scalar functions of the real column vector $x$, the design variables. Each $g_{i}(x)$ represents an inequality constraint and are referred to as the side constraint equations. It is usually convenient to treat the latter separetely since they define the region of search for the optimum namely between the lower bound $x_{i_{lower}}$ and the upper bound $x_{i_{upper}}.$\n",
    "\n",
    "There are three popular and frequently used problems of topology optimization: minimum complience, heat conduction and mechanism synthesis [1]. \n",
    "\n",
    "## Minimum complience: problem statement \n",
    "\n",
    "The real minimum compliance problem is a distributed, descrete valued design problem, which consists of calculating the complience (the inverse of stiffness) for each possible permutation of the design domain. Thus, if we discretise a 2D domain into X-by-Y mesh of finite elements, and knowing that each element has two possible values (0 and 1), we have $2^{X\\times Y}$ possible permutations of the domain. This is extremely expensive to compute: for a small 4-by-4 domain, we have to calculate $2^{4\\times 4} = 65536$ possible material designs and evaluate each one in order to find the design's compliance, with each requiring a finite element analysis (FEA). The problem is further compounded in that each FEA becomes computationally more expensive as the domain discretation is increased. \n",
    "\n",
    "The above mentioned problem can be solved using, for example, the SIMP method [2]. Basically, the approach is to replace the discrete variables with continuous variables and then to introduce some form of penalty that will drive the solution to discrete solid-void-values. The element stiffness matrix is then modified so that it becimes a function of the continuous variables, where the latter are now the design variables. The continuous design variables could be interpreted as the density of the material. \n",
    "\n",
    "Then let's rewrite the general form of a mathematical optimization problem as a minimum compliance topology optimization problem. The SIMP problem for minimum complience is $$min_{x}f(x) = q^{T}r = \\Sigma_{i=1}^n (x_{i})^{p}q_{i}^{T}K_{i}q_{i},$$ $$s.t.\\hspace{2 mm} g_{j}(x) \\le 0, j = 1,2,...,m,$$ $$Kq = r,$$ $$0 \\le x_{i_{lower}} \\le x_{i} \\le 1, i = 1,2,...,n.$$ The objective function $f(x)$ represents complience or strain energy, $x_{i}$ represents the design variable, that is a finite element. Thus, $(x_{i})^{p}$ represents the penalised design variable (or density) and $p$ is the SIMP penalty parameter. Using of a lower bound $x_{i_{lower}}$ on the density is due to prevent any possible singularity of the equilibrium problem. The $q$ represents the finite element global displacement vector, $q_{i}$ represents the elemental displacement vector, $r$ is the global load vector, $K_{i}$ is the element stiffness matrix and $K$ is the global assembled finite element stiffness matrix. The $m$ linear constraints are represented by $g_{j}(x)$ and the last equation represents the side constraints on $x_{i}$. Subscript $i$ indicates elemental quantities and operators, $q_{i}$ refers to the displacement contribution of element $i$. \n",
    "\n",
    "Further we consider only $n$ equally sized finite elements in the finite element mesh, with the corresponding vector of design variables $x = [x_{1}, x_{2}, ... , x_{n}]^{T}$. It is assumed that the load vector, $r$, is independent of the design variables $x$, that is $r\\neq f(x)$. \n",
    "\n",
    "Then to obtain standart minimum complience problem with single constraint, we set $m=1$ and formulate the constraint: $$g(x) = \\frac{v(x)}{v_{0}} - v_{lim} = \\frac{1}{v_{0}}\\Sigma_{i=1}^{n} v_{i}x_{i} - v_{lim} \\le 0,$$ where $v(x) = v$ represents the final $area\\times 1$ in the 2D domain occupying the design domain, $v_{0}$ is the total area of the design domain, $v_{lim}$ is the prescribed limit on the final area fraction, and $v_{i}$ is the area that each element takes. When the finite elements are all equally sized, $v_{i}$ is the same for each element and can therefore be moved in front of summation symbol and be replaced by $v_{e}$. $K_{i}$ is also the same for each element, and is replaced by $K_{e}$. Finally, we can write the above problem as: $$min_{x}f(x) = \\Sigma_{i=1}^{n} (x_{i})^{p}q_{i}^{T}K_{e}q_{i},$$ $$s.t.\\hspace{2 mm} g(x) = \\frac{v_{e}}{v_{0}}\\Sigma_{i=1}^{n} x_{i} - v_{lim} \\le 0,$$ $$Kq = r,$$ $$0 \\le x_{i_{lower}} \\le x_{i} \\le 1, i = 1,2,...,n.$$\n",
    "\n",
    "\n",
    "## Finite elements with penalised equilibrium\n",
    "\n",
    "Assumed stress hybrid elements are renowned for their accurate stress solution, due to the fact that the stress and displacement trial functions are selected independently. For a 2D 4-node quadrilateral (Q4) membrane element, the displacements $u$ are typically interpolated as $$u=Nq,$$ with $N$ the bi-linear Lagrangian interpolation functions, and $q$ is the unknown elemental nodal displacements. The stress $\\sigma$ is interpolated as $$\\sigma = TP\\beta,$$ where $P$ is the stress interpolation matrix, $T$ is an optional transformation or constraint matrix, and $\\beta$ is the unknown elemental stress psrsmeters. Selecting $T$ and $P$ is not straight forward - there are no unique optimal formulations. Typically, 5 $\\beta$ parameters are used with : $$P = \\begin{pmatrix} 1 & 0 & 0 & ƞ & 0 \\\\ 0 & 1 & 0 & 0 & ξ \\\\ 0 & 0 & 1 & 0 & 0\\end{pmatrix},$$ where ξ and ƞ are the natural coordinates. \n",
    "\n",
    "Accurate  stress solutions in the sense of the energy norm do not necessarily imply pointwise accurate stress predictions within elements [3]. Most hybrid elements only yield accurate stress predictions at the element centrid, while stress predictions at element edges and in particular element nodes, can be highly inaccurate. To improve the accuracy of point wise predictions in hybrid elements, a number of formulations have been proposed. This includes pre- and post-treatment proposed by authors of the paper [3], with post-treatment simpler and superior.\n",
    "\n",
    "While distributed body forces may induce important loads on a structure, they can usually be ignored on the element level in stress calculations. Thus, element equilibrium could be written as: $$\\partial\\sigma = D^{T}\\sigma = 0\\hspace{2 mm} in \\hspace{2 mm}\\Omega,$$ where $D$ is the 2D differential operator and $\\Sigma$ is the element domain. Enforcement of the equation above in the cariational formulation yields a functional: $$Π^{*}(u,\\sigma) = Π(u,\\sigma) - \\alpha\\int (\\partial\\sigma)^{T}(\\partial\\sigma)\\,d\\Omega,$$ where $\\alpha >> 0$, $Π(u,\\sigma)$ represents the potential of the Hellinger-Reissner principle. Using matrix notation, and for the sake of convergence setting $\\alpha \\leftarrow \\alpha/2E$, the potential of the assumed stress elements becomes: $$Π^{*}(u,\\sigma) = \\beta^{T}Gq - \\frac{1}{2}\\beta^{T}(H+\\frac{\\alpha}{E}H_{p})\\beta- q^{T}r$$ with $$G = \\int_{\\Omega} P^{T}B\\, d\\Omega,$$ $$H = \\int_{\\Omega}P^{T}C^{-1}P\\,d\\Omega,$$ $$r = \\int_{\\Omega}N^{T}f\\,d\\Omega,$$ and $$H_{p} = \\int_{\\Omega}(\\partial P)^{T}(\\partial P)\\,d\\Omega,$$ where $P$ is now understood to represent the matrix product $TP$. From the stationary condition, the elemental stress parameters may be recovered as: $$\\beta = (H+\\frac{\\alpha}{E}H_{p})^{-1}Gq,$$ while the force-displacement relationship is obtained as: $$G^{T}(H+\\frac{\\alpha}{E}H_{p})^{-1}Gq = r,$$ or $$Kq = r.$$\n",
    "\n",
    "For elements of regular geometry, penalised equilibrium has no detrimental influence. However, for elements of irregular geometry, the stiffness associated with the higher order deformation modes completely vanishes as $\\alpha \\rightarrow ∞$. \n",
    "\n",
    "Let's now consider displacement based element. Even though the enforcement of $\\partial \\sigma = 0$ in $\\Omega$ seems difficult for the Q4 element, it may be attempted to soften the higher order deformation modes by means of introducing elemental parameters, expressed in terms of the element equilibrium equations. \n",
    "\n",
    "The straining or deformation modes of square Q4 element are shown in Figure 1. The higher order modes are to be blamed for the poor perfomance of this element in bending. For the element, the stresses are obtained from: $$\\sigma = Cε = CBq$$ Hence $$\\partial \\sigma = \\partial (CBq) = \\overline{B}q$$ The potential energy is constructed then as follow: $$\\Pi^{*}(u) = \\frac{1}{2}q^{T}\\int_{\\Omega}B^{T}CB\\,d\\Omega q - \\alpha q^{T}\\int_{\\Omega}\\overline{B}^{T}\\overline{B}\\,d\\Omega q - q^{T}r.$$ The force-displacement relationship for new Q4(\\alpha^{*}) element, that is $Q4\\alpha 5 \\beta$, is then obtained as: $$(K-\\alpha E\\overline{K})q = r,$$ where $\\alpha \\leftarrow \\alpha E/2.$ In compare with the normal force-displacement relationship for the Q4 element, $Kq=r$, the difference is the introduction of $\\alpha E \\overline{K},$ which is introduced in order to soften higher order modes of the Q4 element. \n",
    "\n",
    "![Figure 1.](/Users/ladakarimullina/Desktop/report/Fig_1.jpg \"Figure 1.\")\n",
    "\n"
   ]
  },
  {
   "cell_type": "markdown",
   "metadata": {},
   "source": [
    "## Topology optimisation\n",
    "\n",
    "In the current project we want to solve the topology optimisatopn problem for mechanical structures, considering a design domain $Ω$ filled with a linear isotropic elastic material and discretized with square finite elements. The material distribution is described by the binary density variable xj that represents either absence (0) or presence (1) of the material at each point of the design domain. Therefore, the problem has a form almost the same as (2): $$min_{x}f(x) = \\Sigma_{i=1}^{n} E_{i}(x_{i})q_{i}^{T}K_{e}q_{i},$$ $$s.t.\\hspace{2 mm} g(x) = \\frac{v_{e}}{v_{0}}\\Sigma_{i=1}^{n} x_{i} - v_{lim} \\le 0,$$ $$Kq = r,$$ $$0 \\le x_{i_{lower}} \\le x_{i} \\le 1, i = 1,2,...,n.$$ As we have already mentoined the problem is computationally expensive due to its discrete nature. And for solving this issue so-called SIMP algorithm is used. It allows to achive the non-binary solutions by choosing Young's modulus of a simple but very efficient form: $$E_{i}(x_{i}) = E_{min} + x^{p}_{i} (E_{0} − E_{min}),$$ where $p$ is some form of penalty that will drive the solution to discrete solid-void-values. Then discrete design variables is replaced with continious design variables which could be interpreted as the density of the material.\n",
    "\n",
    "We are going to solve the problem of topology optimization with following pipeline: use SIMP method to perform the initial iterations and get the distribution with non-binary densities; use the neural network to perform the segmentation of the obtained image and converge the distribution to {0, 1} solution."
   ]
  },
  {
   "cell_type": "markdown",
   "metadata": {},
   "source": [
    "## Neural Network for Topology Optimization\n",
    "\n",
    "The porpose of the  Neural Network is to perform the convergence of densities during the topology optimization process. The reference for the architecture is the paper [5]. As the input of the model we use  a two-channel image. The first one is the density distribution $X_{n}$ inside of the design domain which was obtained after the last performed iteration of topology optimization solver. The second input is the last performed update (gradient) of the densities $δX = X_{n} − X_{n−1}$. The output of the model is a grayscale image of the same resolution as an input, which represents the predicted final structure. The architecture of our model mimics the common for the image segmentation hourglass shape. The proposed model has an encoder network and a corresponding decoder network, followed by a final pixel-wise classification layer. The architecture is illustrated in ???\n",
    "\n",
    "The encoder network consists of 6 convolutional layers. Each layer has kernels of size 3×3 and is followed by ReLU nonlinearity. The first two layers have 16 convolutional kernels. This block is followed by the pooling of the maximal element from the window of size 2×2. The next two layers have 32 kernels and are also followed by MaxPooling layer. The last block consists of 2 layers with 64 kernels each.\n",
    "The decoder network copies the architecture of the encoder part and reverses it. The MaxPooling layers are replaced with Upsampling layers followed by the concatenation with features from the corresponding low-level layer as it is performed in U-Net [18]?? The pooling operation introduces the invariance of the subsequent network to small translations of the input. The concatenation of features from different layers allows one to benefit from the use of both the raw low-level representation and significantly encoded parameterization from the higher levels. The decoder is followed by the Convolutional layer with 1 kernel and sigmoid activation function. We included 2 Dropout layers [12] as the regularization for our network??\n",
    "\n",
    "\n"
   ]
  },
  {
   "cell_type": "markdown",
   "metadata": {},
   "source": [
    "## References\n",
    "[1] Bruns T. E. A reevaluation of the SIMP method with filtering and an alternative formulation for solid–void topology optimization //Structural and Multidisciplinary Optimization. – 2005. – Т. 30. – С. 428-436\n",
    "\n",
    "[2] Sigmund O. A 99 line topology optimization code written in Matlab //Structural and multidisciplinary optimization. – 2001. – Т. 21. – С. 120-127\n",
    "\n",
    "[3] Wu C. C., Cheung Y. K. On optimization approaches of hybrid stress elements //Finite Elements in Analysis and design. – 1995. – Т. 21. – №. 1-2. – С. 111-128.\n",
    "\n",
    "[4] Hunter W. Predominantly solid-void three-dimensional topology optimisation using open source software : дис. – Stellenbosch: University of Stellenbosch, 2009.\n",
    "\n",
    "[5] Sosnovik I., Oseledets I. Neural networks for topology optimization //Russian Journal of Numerical Analysis and Mathematical Modelling. – 2019. – Т. 34. – №. 4. – С. 215-223.\n",
    "\n",
    "\n",
    "\n",
    "\n"
   ]
  }
 ],
 "metadata": {
  "language_info": {
   "name": "python"
  }
 },
 "nbformat": 4,
 "nbformat_minor": 2
}
